{
 "cells": [
  {
   "cell_type": "code",
   "execution_count": 143,
   "metadata": {
    "collapsed": true
   },
   "outputs": [],
   "source": [
    "import nltk\n",
    "import itertools\n",
    "import string\n",
    "from nltk.tokenize import word_tokenize\n",
    "from string import punctuation"
   ]
  },
  {
   "cell_type": "code",
   "execution_count": 2,
   "metadata": {
    "collapsed": true
   },
   "outputs": [],
   "source": [
    "_pronunciations = nltk.corpus.cmudict.dict()"
   ]
  },
  {
   "cell_type": "code",
   "execution_count": 37,
   "metadata": {},
   "outputs": [
    {
     "data": {
      "text/plain": [
       "[[u'HH', u'IY1', u'D']]"
      ]
     },
     "execution_count": 37,
     "metadata": {},
     "output_type": "execute_result"
    }
   ],
   "source": [
    "_pronunciations[\"he'd\"]"
   ]
  },
  {
   "cell_type": "code",
   "execution_count": 53,
   "metadata": {
    "collapsed": true
   },
   "outputs": [],
   "source": [
    "def num_syllables(word):\n",
    "    if word not in _pronunciations:\n",
    "            return 1\n",
    "    else:\n",
    "        pronuns = _pronunciations[word]\n",
    "\n",
    "        shortest_syllables = -1\n",
    "\n",
    "        for this_pronun in pronuns:\n",
    "            this_num_syllables = len([s for s in this_pronun if s[-1].isdigit()])\n",
    "            if shortest_syllables == -1:\n",
    "                shortest_syllables = this_num_syllables\n",
    "            elif this_num_syllables < shortest_syllables:\n",
    "                shortest_syllables = this_num_syllables\n",
    "        if shortest_syllables == 0:\n",
    "            return 1\n",
    "        return shortest_syllables"
   ]
  },
  {
   "cell_type": "code",
   "execution_count": 131,
   "metadata": {},
   "outputs": [
    {
     "data": {
      "text/plain": [
       "2"
      ]
     },
     "execution_count": 131,
     "metadata": {},
     "output_type": "execute_result"
    }
   ],
   "source": [
    "num_syllables(\"forgot\")"
   ]
  },
  {
   "cell_type": "code",
   "execution_count": 55,
   "metadata": {
    "collapsed": true
   },
   "outputs": [],
   "source": [
    "def rhymes(a, b):\n",
    "    # get number of syllables for words a, b\n",
    "    a_num_syllables = num_syllables(a)\n",
    "    b_num_syllables = num_syllables(b)\n",
    "\n",
    "    # check which word has more syllables\n",
    "    if a_num_syllables < b_num_syllables:\n",
    "        shorter = a\n",
    "        longer = b\n",
    "    else:\n",
    "        shorter = b\n",
    "        longer = a\n",
    "    \n",
    "    \n",
    "    if shorter not in _pronunciations or longer not in _pronunciations:\n",
    "        return False\n",
    "    else:\n",
    "        shorter_pronuns = _pronunciations[shorter]\n",
    "        longer_pronuns = _pronunciations[longer]\n",
    "        for s_pronun in shorter_pronuns:\n",
    "            try:\n",
    "                shorter_sounds = s_pronun[[1 if s[-1].isdigit() else 0 for s in s_pronun].index(1):]\n",
    "            except ValueError:\n",
    "                # If a word's pronounciation doesn't have any vowels, it rhymes with everything\n",
    "                return True\n",
    "            last_n = 0-len(shorter_sounds)\n",
    "            for l_pronun in longer_pronuns:\n",
    "                longer_sounds = l_pronun[[1 if s[-1].isdigit() else 0 for s in l_pronun].index(1):]\n",
    "                longer_sounds_last_n = longer_sounds[last_n:]\n",
    "                if shorter_sounds == longer_sounds_last_n:\n",
    "                    return True\n",
    "\n",
    "\n",
    "    return False"
   ]
  },
  {
   "cell_type": "code",
   "execution_count": 132,
   "metadata": {},
   "outputs": [
    {
     "data": {
      "text/plain": [
       "True"
      ]
     },
     "execution_count": 132,
     "metadata": {},
     "output_type": "execute_result"
    }
   ],
   "source": [
    "rhymes(\"forgot\", \"trot\")"
   ]
  },
  {
   "cell_type": "code",
   "execution_count": 57,
   "metadata": {},
   "outputs": [
    {
     "data": {
      "text/plain": [
       "True"
      ]
     },
     "execution_count": 57,
     "metadata": {},
     "output_type": "execute_result"
    }
   ],
   "source": [
    "rhymes(\"plane\", \"train\")"
   ]
  },
  {
   "cell_type": "code",
   "execution_count": 201,
   "metadata": {},
   "outputs": [],
   "source": [
    "def is_limerick(text):\n",
    "    punctuation_to_avoid = [s for s in punctuation]\n",
    "    lines = text.strip().split('\\n')\n",
    "    # There must be 5 lines in a limerick AABBA\n",
    "    if len(lines) != 5:\n",
    "        return False\n",
    "\n",
    "    # contains number of syllables for corresponding line index\n",
    "    num_sylls = []\n",
    "\n",
    "    # contains the last word of each line\n",
    "    last_word = []\n",
    "\n",
    "    for line in lines:\n",
    "        syllables = 0\n",
    "#         line_words = line.strip().split(\" \")\n",
    "        line_words = word_tokenize(line.strip())\n",
    "        line_words = [w for w in line_words if w not in punctuation_to_avoid]\n",
    "        for line_word in line_words:\n",
    "            syllables += num_syllables(line_word)\n",
    "        print line,syllables\n",
    "        if syllables < 4:\n",
    "            print \"sdfdsf\"\n",
    "            return False\n",
    "        num_sylls.append(syllables)\n",
    "        last_word.append(line_words[-1].translate(None, string.punctuation))\n",
    "\n",
    "    A_lines_last_word = [last_word[0],last_word[1],last_word[4]]\n",
    "    B_lines_last_word = [last_word[2],last_word[3]]\n",
    "\n",
    "    A_syllables = [num_sylls[0],num_sylls[1],num_sylls[4]]\n",
    "    B_syllables = [num_sylls[2],num_sylls[3]]\n",
    "\n",
    "    # make sure A lines rhyme with each other\n",
    "    if any(not rhymes(x.lower(),y.lower()) for x,y in itertools.combinations(A_lines_last_word,2)):\n",
    "        return False\n",
    "\n",
    "    # make sure B lines rhyme with each other\n",
    "    if not rhymes(B_lines_last_word[0].lower(),B_lines_last_word[1].lower()):\n",
    "        return False\n",
    "\n",
    "    # make sure A lines don't rhyme with B lines\n",
    "    if any(rhymes(x.lower(),y.lower()) for x,y in itertools.product(A_lines_last_word,B_lines_last_word)):\n",
    "        return False\n",
    "\n",
    "    # No two A lines should differ in their number of syllables by more than two\n",
    "    if any(abs(x-y) > 2 for x,y in itertools.combinations(A_syllables,2)):\n",
    "        return False\n",
    "\n",
    "    # The B lines should differ in their number of syllables by no more than two\n",
    "    if abs(B_syllables[0]-B_syllables[1]) > 2:\n",
    "        return False\n",
    "\n",
    "    # Each of the B lines should have fewer syllables than each of the A lines\n",
    "    if any(x-y <= 0 for x,y in itertools.product(A_syllables,B_syllables)):\n",
    "        return False\n",
    "\n",
    "    return True"
   ]
  },
  {
   "cell_type": "code",
   "execution_count": 217,
   "metadata": {},
   "outputs": [
    {
     "name": "stdout",
     "output_type": "stream",
     "text": [
      "Computers have become so intelligent and smart 11\n",
      "Google artificial intelligence can draw art 12\n",
      "Watson won jeopardy, earning fame 8\n",
      "To defeat cancer is now his aim 9\n",
      "The future of AI looks awesome, this is just the start. 13\n"
     ]
    },
    {
     "data": {
      "text/plain": [
       "True"
      ]
     },
     "execution_count": 217,
     "metadata": {},
     "output_type": "execute_result"
    }
   ],
   "source": [
    "g = \"\"\"Computers have become so intelligent and smart\n",
    "Google artificial intelligence can draw art\n",
    "Watson won jeopardy, earning fame\n",
    "To defeat cancer is now his aim\n",
    "The future of AI looks awesome, this is just the start.\"\"\"\n",
    "is_limerick(g)"
   ]
  },
  {
   "cell_type": "code",
   "execution_count": 189,
   "metadata": {
    "collapsed": true
   },
   "outputs": [],
   "source": [
    "g = \"\"\"There was a young lady one fall\n",
    "Who wore a newspaper dress to a ball.\n",
    "The dress caught fire\n",
    "And burned her entire\n",
    "Front page, sporting section and all.\"\"\""
   ]
  },
  {
   "cell_type": "code",
   "execution_count": 190,
   "metadata": {},
   "outputs": [
    {
     "name": "stdout",
     "output_type": "stream",
     "text": [
      "['There', 'was', 'a', 'young', 'lady', 'one', 'fall']\n",
      "['Who', 'wore', 'a', 'newspaper', 'dress', 'to', 'a', 'ball']\n",
      "['The', 'dress', 'caught', 'fire']\n",
      "['And', 'burned', 'her', 'entire']\n",
      "['Front', 'page', 'sporting', 'section', 'and', 'all']\n"
     ]
    },
    {
     "data": {
      "text/plain": [
       "True"
      ]
     },
     "execution_count": 190,
     "metadata": {},
     "output_type": "execute_result"
    }
   ],
   "source": [
    "is_limerick(g)"
   ]
  },
  {
   "cell_type": "code",
   "execution_count": 180,
   "metadata": {},
   "outputs": [
    {
     "name": "stdout",
     "output_type": "stream",
     "text": [
      "!\"#$%&'()*+,-./:;<=>?@[\\]^_`{|}~\n"
     ]
    }
   ],
   "source": [
    "print punctuation"
   ]
  },
  {
   "cell_type": "code",
   "execution_count": 17,
   "metadata": {},
   "outputs": [
    {
     "data": {
      "text/plain": [
       "['a woman whose friends called a prude',\n",
       " 'on a lark when bathing all nude',\n",
       " 'saw a man come along',\n",
       " 'and unless we are wrong',\n",
       " 'you expected this line to be lewd']"
      ]
     },
     "execution_count": 17,
     "metadata": {},
     "output_type": "execute_result"
    }
   ],
   "source": [
    "a.strip().split('\\n')"
   ]
  },
  {
   "cell_type": "code",
   "execution_count": 16,
   "metadata": {},
   "outputs": [
    {
     "data": {
      "text/plain": [
       "'a woman whose friends called a prude\\non a lark when bathing all nude\\nsaw a man come along\\nand unless we are wrong\\nyou expected this line to be lewd'"
      ]
     },
     "execution_count": 16,
     "metadata": {},
     "output_type": "execute_result"
    }
   ],
   "source": [
    "a.strip()"
   ]
  },
  {
   "cell_type": "code",
   "execution_count": 69,
   "metadata": {},
   "outputs": [
    {
     "data": {
      "text/plain": [
       "True"
      ]
     },
     "execution_count": 69,
     "metadata": {},
     "output_type": "execute_result"
    }
   ],
   "source": [
    "is_limerick(a)"
   ]
  },
  {
   "cell_type": "code",
   "execution_count": 72,
   "metadata": {},
   "outputs": [
    {
     "data": {
      "text/plain": [
       "'asfdsf'"
      ]
     },
     "execution_count": 72,
     "metadata": {},
     "output_type": "execute_result"
    }
   ],
   "source": [
    "\"aSFDSF\".lower()"
   ]
  },
  {
   "cell_type": "code",
   "execution_count": 73,
   "metadata": {},
   "outputs": [
    {
     "data": {
      "text/plain": [
       "1"
      ]
     },
     "execution_count": 73,
     "metadata": {},
     "output_type": "execute_result"
    }
   ],
   "source": [
    "num_syllables(\"he'd\")"
   ]
  },
  {
   "cell_type": "code",
   "execution_count": 65,
   "metadata": {},
   "outputs": [
    {
     "data": {
      "text/plain": [
       "['he', 'ca', \"n't\", 'work', '!', 's']"
      ]
     },
     "execution_count": 65,
     "metadata": {},
     "output_type": "execute_result"
    }
   ],
   "source": [
    "word_tokenize(\"he can't work!s\")"
   ]
  },
  {
   "cell_type": "code",
   "execution_count": 114,
   "metadata": {},
   "outputs": [],
   "source": [
    "def apostrophe_tokenize(line):\n",
    "    return re.findall(r\"[\\w']+|[!#$%&\\\"()*+,-./:;<=>?@[\\]^_`{|}~]\", line)"
   ]
  },
  {
   "cell_type": "code",
   "execution_count": 115,
   "metadata": {},
   "outputs": [
    {
     "data": {
      "text/plain": [
       "['he', \"can't\", 'work', '!', 'sdfdsf']"
      ]
     },
     "execution_count": 115,
     "metadata": {},
     "output_type": "execute_result"
    }
   ],
   "source": [
    "apostrophe_tokenize(\"he can't work!sdfdsf \")"
   ]
  },
  {
   "cell_type": "code",
   "execution_count": 127,
   "metadata": {},
   "outputs": [],
   "source": [
    "def guess_syllables(word):\n",
    "    vowels = ['a','e','i','o','u']\n",
    "    word = word.lower()\n",
    "    \n",
    "    # count the number of vowels in the word\n",
    "    count = 0\n",
    "    for w in word:\n",
    "        if w in vowels:\n",
    "            count += 1\n",
    "    # subtract silent vowels\n",
    "    # any words that end with 'e' or consectutive vowels\n",
    "    if word[-1] == 'e':\n",
    "        count -= 1\n",
    "    previous = False\n",
    "    for w in word:\n",
    "        if w in vowels:\n",
    "            if previous:\n",
    "                count -= 1\n",
    "            else:\n",
    "                previous = True\n",
    "        else:\n",
    "            previous = False\n",
    "        \n",
    "        \n",
    "    return count"
   ]
  },
  {
   "cell_type": "code",
   "execution_count": 130,
   "metadata": {},
   "outputs": [
    {
     "data": {
      "text/plain": [
       "2"
      ]
     },
     "execution_count": 130,
     "metadata": {},
     "output_type": "execute_result"
    }
   ],
   "source": [
    "guess_syllables('Asia')"
   ]
  },
  {
   "cell_type": "code",
   "execution_count": null,
   "metadata": {
    "collapsed": true
   },
   "outputs": [],
   "source": []
  }
 ],
 "metadata": {
  "kernelspec": {
   "display_name": "Python 2",
   "language": "python",
   "name": "python2"
  },
  "language_info": {
   "codemirror_mode": {
    "name": "ipython",
    "version": 2
   },
   "file_extension": ".py",
   "mimetype": "text/x-python",
   "name": "python",
   "nbconvert_exporter": "python",
   "pygments_lexer": "ipython2",
   "version": "2.7.13"
  }
 },
 "nbformat": 4,
 "nbformat_minor": 2
}
